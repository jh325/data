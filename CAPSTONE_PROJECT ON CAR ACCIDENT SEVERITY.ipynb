{
    "cells": [
        {
            "cell_type": "markdown",
            "metadata": {},
            "source": "## Introduction Business Problem\n### Background"
        },
        {
            "cell_type": "code",
            "execution_count": null,
            "metadata": {},
            "outputs": [],
            "source": "The Seattle Police Department (SPD) provides road collisions records since 2004. The records describe the severity of each collision (0 property damage/1 personal injury) with additional information.\nPreventing road collisions is a major concern for public authorities. Therefore, it is important to accurately predict whatever a serious accident will occur. It is also important to identify the factors causing serious accidents, as these could be eliminated or mitigated.\nProblem\nThis project aims to predict the severity of a collision given other factors, such as the wheatear condition, the road condition, the number of vehicles involved, and the number of persons on the road.\nInterest\nA model predicting the severity of collisions can be used for a warning system. The SPD could issue a warning on road signs when a serious accident is predicted (severity 1, personal injury), to inform the drivers to pay more attention while driving.\n\nThe objective is to define the problem, to find the factors that can have a relevant weight in the quantity and seriousness of the accidents, so that any organism, company or enterprise interested in reducing these figures, can focus the resources in points where these conditions converge.\n\nIn order to provide greater clarity, I will try to analyze the data, see if there are relationships or patterns, especially in high impact accidents, so that preventive measures can focus on these points as a first prevention strategy."
        },
        {
            "cell_type": "markdown",
            "metadata": {},
            "source": "## Data Sources"
        },
        {
            "cell_type": "code",
            "execution_count": null,
            "metadata": {},
            "outputs": [],
            "source": "The data used for this study was obtained from the Seattle Department of Transportation.\nFeature selectionand are provided by Coursera for downloading through a link.\n\nData Location: Coursera_Capstone/Data assets\n\nData set name: Data-Collisions (1)_shaped.csv"
        },
        {
            "cell_type": "markdown",
            "metadata": {},
            "source": "### Defining the problem"
        },
        {
            "cell_type": "code",
            "execution_count": null,
            "metadata": {
                "collapsed": true
            },
            "outputs": [],
            "source": "We will have to analyze the data to get a clearer picture and draw conclusions.\nThe data used is from Seattle\u2019s Collision GIS (Geographic Information System), a computer system used for capturing, storing and displaying data related to positions on Earth\u2019s surface. The data is from 2004 to the present and contains various features such as location, the severity of the collision, number of vehicles/cyclists/pedestrians involved, date/time of incident, weather, road conditions and more. There are almost 200,000 collisions in the dataset and 38 features. While some of the features won\u2019t be useful or have many missing values, the ones that I will explore in more detail will be:\n\n* Severity Code \u2014 this will be the target that we\u2019ll compare the features\u2019 impact on.\n* Severity Description \u2014 description of the severity codes.\n* X and Y values (coordinates) \u2014 are there areas where collisions are more concentrated?\n* Address Type \u2014 alley, block or intersection of collision.\n* Collision Type \u2014 10 types of collisions such as parked car, angles, rear end, pedestrian, etc.\n* Person Count \u2014 # of people involved in collision.\n* Pedestrian Count \u2014 # of pedestrians involved in collision.\n* Cyclist Count \u2014 # of cyclists involved in collision.\n* Vehicle count \u2014 # of vehicles involved in collision.\n* Date/Time \u2014 are number of or severity of collisions more likely to occur on certain days or times?\n* Junction Type \u2014 7 types describing collision at intersection, mid-block, driveway and whether collision is related to intersection.\n* Seattle Collision Code \u2014 Seattle codes to describe each collision.\n* Seattle Collision Description \u2014 description of Seattle collision codes.\n* Under Influence \u2014 was alcohol or drugs involved?\n* Weather \u2014 do more collisions occur because of adverse weather?\n* Road Conditions \u2014 do more collisions occur because of adverse road conditions?\n* Light Conditions \u2014 do more collisions occur because of adverse light conditions?\n* State Collision Code \u2014 84 codes the state uses to descibe each collision.\n* State Collision Description \u2014 description of state collision codes.\n* Hit Parked Car \u2014 was a parked car iWhat are the factors that have a high impact on road accidents?\n\nWhat are the  other factors that have a high impact on road accidents?\n\nIs there a pattern to them?\n\nCorrelation?"
        }
    ],
    "metadata": {
        "kernelspec": {
            "display_name": "Python 3.6",
            "language": "python",
            "name": "python3"
        },
        "language_info": {
            "codemirror_mode": {
                "name": "ipython",
                "version": 3
            },
            "file_extension": ".py",
            "mimetype": "text/x-python",
            "name": "python",
            "nbconvert_exporter": "python",
            "pygments_lexer": "ipython3",
            "version": "3.6.9"
        }
    },
    "nbformat": 4,
    "nbformat_minor": 1
}